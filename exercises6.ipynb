{
 "cells": [
  {
   "cell_type": "markdown",
   "metadata": {
    "deletable": false,
    "editable": false
   },
   "source": [
    "# Visualization and Modern Data Science\n",
    "\n",
    "> Homework 6: Visualization and Modern Data Science, NTU, Spring, 2021.\n",
    "\n",
    "Kuo, Yao-Jen <yaojenkuo@ntu.edu.tw> from [DATAINPOINT](https://www.datainpoint.com)"
   ]
  },
  {
   "cell_type": "markdown",
   "metadata": {
    "deletable": false,
    "editable": false
   },
   "source": [
    "## Instructions\n",
    "\n",
    "- We've imported necessary modules/libraries at the beginning of each exercise.\n",
    "- We've put necessary files(if any) in the working directory of each exercise.\n",
    "- We've defined the names of functions/inputs/arguments for you.\n",
    "- Write down your solution between the comments `### BEGIN SOLUTION` and `### END SOLUTION`.\n",
    "- Running tests to see if your solutions are right: Kernel -> Restart & Run All -> Restart and Run All Cells.\n",
    "- You can run tests after each question or after finishing all questions.\n",
    "- REMEMBER to upload your `.ipynb` file to [CEIBA](https://ceiba.ntu.edu.tw/) before 2021-06-11 20:59:59 when you are done running tests."
   ]
  },
  {
   "cell_type": "code",
   "execution_count": 1,
   "metadata": {
    "deletable": false,
    "editable": false
   },
   "outputs": [],
   "source": [
    "import numpy as np\n",
    "import pandas as pd\n",
    "import unittest"
   ]
  },
  {
   "cell_type": "markdown",
   "metadata": {},
   "source": [
    "## 00. Define a function named `import_olympic_medals` that is able to import a given csv file `all_time_olympic_medals.csv` as a pandas DataFrame.\n",
    "\n",
    "- Expected inputs: a CSV file `all_time_olympic_medals.csv`.\n",
    "- Expected outputs: a (153, 17) DataFrame."
   ]
  },
  {
   "cell_type": "code",
   "execution_count": 4,
   "metadata": {},
   "outputs": [],
   "source": [
    "def import_olympic_medals(csv_file_path):\n",
    "    \"\"\"\n",
    "    >>> olympic_medals = import_olympic_medals(\"all_time_olympic_medals.csv\")\n",
    "    >>> type(olympic_medals)\n",
    "    pandas.core.frame.DataFrame\n",
    "    >>> olympic_medals.shape\n",
    "    (153, 17)\n",
    "    \"\"\"\n",
    "    ### BEGIN SOLUTION\n",
    "    return pd.read_csv(csv_file_path)\n",
    "    ### END SOLUTION"
   ]
  },
  {
   "cell_type": "markdown",
   "metadata": {},
   "source": [
    "## 01. Define a function named `find_taiwan_from_olympic_medals` that is able to retrieve the data of Taiwan as a pandas DataFrame.\n",
    "\n",
    "PS Taiwan might not be \"Taiwan\" in Olympic data.\n",
    "\n",
    "- Expected inputs: a CSV file `all_time_olympic_medals.csv`.\n",
    "- Expected outputs: a (1, 17) DataFrame."
   ]
  },
  {
   "cell_type": "code",
   "execution_count": 11,
   "metadata": {},
   "outputs": [],
   "source": [
    "def find_taiwan_from_olympic_medals(csv_file_path):\n",
    "    \"\"\"\n",
    "    >>> taiwan_medals = find_taiwan_from_olympic_medals('all_time_olympic_medals.csv')\n",
    "    >>> type(taiwan_medals)\n",
    "    pandas.core.frame.DataFrame\n",
    "    >>> taiwan_medals.shape\n",
    "    (1, 17)\n",
    "    >>> taiwan_medals['team_name'].values[0]\n",
    "    'Chinese Taipei'\n",
    "    >>> print(taiwan_medals)\n",
    "              team_name team_ioc  no_summer_games  no_summer_golds  \\\n",
    "    128  Chinese Taipei      TPE               14                5   \n",
    "\n",
    "         no_summer_silvers  no_summer_bronzes  no_summer_totals  no_winter_games  \\\n",
    "    128                  7                 12                24               12   \n",
    "\n",
    "         no_winter_golds  no_winter_silvers  no_winter_bronzes  no_winter_totals  \\\n",
    "    128                0                  0                  0                 0   \n",
    "\n",
    "         no_combined_games  no_combined_golds  no_combined_silvers  \\\n",
    "    128                 26                  5                    7   \n",
    "\n",
    "         no_combined_bronzes  no_combined_totals  \n",
    "    128                   12                  24 \n",
    "    \"\"\"\n",
    "    ### BEGIN SOLUTION\n",
    "    olympic_medals = import_olympic_medals(csv_file_path)\n",
    "    return olympic_medals[olympic_medals['team_name'] == 'Chinese Taipei']\n",
    "    ### END SOLUTION"
   ]
  },
  {
   "cell_type": "markdown",
   "metadata": {},
   "source": [
    "## 02. Define a function named `find_the_king_of_summer_olympics` that is able to retrieve the data of the country that won the most gold medals in summer Olympics.\n",
    "\n",
    "- Expected inputs: a CSV file `all_time_olympic_medals.csv`.\n",
    "- Expected outputs: a (1, 17) DataFrame."
   ]
  },
  {
   "cell_type": "code",
   "execution_count": 36,
   "metadata": {},
   "outputs": [],
   "source": [
    "def find_the_king_of_summer_olympics(csv_file_path):\n",
    "    \"\"\"\n",
    "    >>> the_king_of_summer_olympics = find_the_king_of_summer_olympics('all_time_olympic_medals.csv')\n",
    "    >>> type(the_king_of_summer_olympics)\n",
    "    pandas.core.frame.DataFrame\n",
    "    >>> the_king_of_summer_olympics.shape\n",
    "    (1, 17)\n",
    "    >>> the_king_of_summer_olympics['no_summer_golds'].values[0]\n",
    "    1022\n",
    "    >>> the_king_of_summer_olympics['team_name'].values[0]\n",
    "    'United States'\n",
    "    \"\"\"\n",
    "    ### BEGIN SOLUTION\n",
    "    olympic_medals = import_olympic_medals(csv_file_path) \n",
    "    max_gm = olympic_medals['no_summer_golds'][:152].max() # exclude Total\n",
    "    return olympic_medals[olympic_medals['no_summer_golds'] == max_gm]\n",
    "    ### END SOLUTION"
   ]
  },
  {
   "cell_type": "markdown",
   "metadata": {},
   "source": [
    "## 03. Define a function named `find_the_king_of_winter_olympics` that is able to retrieve the data of the country that won the most gold medals in winter Olympics.\n",
    "\n",
    "- Expected inputs: a CSV file `all_time_olympic_medals.csv`.\n",
    "- Expected outputs: a (1, 17) DataFrame."
   ]
  },
  {
   "cell_type": "code",
   "execution_count": 37,
   "metadata": {},
   "outputs": [],
   "source": [
    "def find_the_king_of_winter_olympics(csv_file_path):\n",
    "    \"\"\"\n",
    "    >>> the_king_of_winter_olympics = find_the_king_of_winter_olympics('all_time_olympic_medals.csv')\n",
    "    >>> type(the_king_of_winter_olympics)\n",
    "    pandas.core.frame.DataFrame\n",
    "    >>> the_king_of_winter_olympics.shape\n",
    "    (1, 17)\n",
    "    >>> the_king_of_winter_olympics['no_winter_golds'].values[0]\n",
    "    132\n",
    "    >>> the_king_of_winter_olympics['team_name'].values[0]\n",
    "    'Norway'\n",
    "    \"\"\"\n",
    "    ### BEGIN SOLUTION\n",
    "    olympic_medals = import_olympic_medals(csv_file_path) \n",
    "    max_gm = olympic_medals['no_winter_golds'][:152].max() # exclude Total\n",
    "    return olympic_medals[olympic_medals['no_winter_golds'] == max_gm]\n",
    "    ### END SOLUTION"
   ]
  },
  {
   "cell_type": "markdown",
   "metadata": {},
   "source": [
    "## 04. Define a function named `find_largest_ratio_country` that is able to retrieve the data of the country that has the largest ratio according to the formula:\n",
    "\n",
    "\\begin{equation}\n",
    "\\text{Ratio} = \\frac{\\text{Summer Gold} - \\text{Winter Gold}}{\\text{Total Gold}}\n",
    "\\end{equation}\n",
    "\n",
    "PS You have to exclude the countries with ratio calculated as 1.\n",
    "\n",
    "- Expected inputs: a CSV file `all_time_olympic_medals.csv`.\n",
    "- Expected outputs: a (1, 17) DataFrame."
   ]
  },
  {
   "cell_type": "code",
   "execution_count": 55,
   "metadata": {},
   "outputs": [],
   "source": [
    "def find_largest_ratio_country(csv_file_path):\n",
    "    \"\"\"\n",
    "    >>> largest_ratio_country = find_largest_ratio_country('all_time_olympic_medals.csv')\n",
    "    >>> type(largest_ratio_country)\n",
    "    pandas.core.frame.DataFrame\n",
    "    >>> largest_ratio_country.shape\n",
    "    (1, 17)\n",
    "    >>> largest_ratio_country['team_name'].values[0]\n",
    "    'Hungary'\n",
    "    \"\"\"\n",
    "    ### BEGIN SOLUTION\n",
    "    olympic_medals = import_olympic_medals(csv_file_path)\n",
    "    olympic_medals = olympic_medals[:152]\n",
    "\n",
    "    ratio_not1_country = olympic_medals[olympic_medals['no_winter_golds'] != 0]\n",
    "    ratio = (ratio_not1_country['no_summer_golds']-ratio_not1_country['no_winter_golds'])/(ratio_not1_country['no_summer_golds']+ratio_not1_country['no_winter_golds'])\n",
    "    max_ratio = ratio.max()\n",
    "\n",
    "    return ratio_not1_country[ratio == max_ratio]\n",
    "    ### END SOLUTION"
   ]
  },
  {
   "cell_type": "code",
   "execution_count": 54,
   "metadata": {},
   "outputs": [
    {
     "data": {
      "text/html": [
       "<div>\n",
       "<style scoped>\n",
       "    .dataframe tbody tr th:only-of-type {\n",
       "        vertical-align: middle;\n",
       "    }\n",
       "\n",
       "    .dataframe tbody tr th {\n",
       "        vertical-align: top;\n",
       "    }\n",
       "\n",
       "    .dataframe thead th {\n",
       "        text-align: right;\n",
       "    }\n",
       "</style>\n",
       "<table border=\"1\" class=\"dataframe\">\n",
       "  <thead>\n",
       "    <tr style=\"text-align: right;\">\n",
       "      <th></th>\n",
       "      <th>team_name</th>\n",
       "      <th>team_ioc</th>\n",
       "      <th>no_summer_games</th>\n",
       "      <th>no_summer_golds</th>\n",
       "      <th>no_summer_silvers</th>\n",
       "      <th>no_summer_bronzes</th>\n",
       "      <th>no_summer_totals</th>\n",
       "      <th>no_winter_games</th>\n",
       "      <th>no_winter_golds</th>\n",
       "      <th>no_winter_silvers</th>\n",
       "      <th>no_winter_bronzes</th>\n",
       "      <th>no_winter_totals</th>\n",
       "      <th>no_combined_games</th>\n",
       "      <th>no_combined_golds</th>\n",
       "      <th>no_combined_silvers</th>\n",
       "      <th>no_combined_bronzes</th>\n",
       "      <th>no_combined_totals</th>\n",
       "    </tr>\n",
       "  </thead>\n",
       "  <tbody>\n",
       "    <tr>\n",
       "      <th>57</th>\n",
       "      <td>Hungary</td>\n",
       "      <td>HUN</td>\n",
       "      <td>26</td>\n",
       "      <td>175</td>\n",
       "      <td>147</td>\n",
       "      <td>169</td>\n",
       "      <td>491</td>\n",
       "      <td>23</td>\n",
       "      <td>1</td>\n",
       "      <td>2</td>\n",
       "      <td>4</td>\n",
       "      <td>7</td>\n",
       "      <td>49</td>\n",
       "      <td>176</td>\n",
       "      <td>149</td>\n",
       "      <td>173</td>\n",
       "      <td>498</td>\n",
       "    </tr>\n",
       "  </tbody>\n",
       "</table>\n",
       "</div>"
      ],
      "text/plain": [
       "   team_name team_ioc  no_summer_games  no_summer_golds  no_summer_silvers  \\\n",
       "57   Hungary      HUN               26              175                147   \n",
       "\n",
       "    no_summer_bronzes  no_summer_totals  no_winter_games  no_winter_golds  \\\n",
       "57                169               491               23                1   \n",
       "\n",
       "    no_winter_silvers  no_winter_bronzes  no_winter_totals  no_combined_games  \\\n",
       "57                  2                  4                 7                 49   \n",
       "\n",
       "    no_combined_golds  no_combined_silvers  no_combined_bronzes  \\\n",
       "57                176                  149                  173   \n",
       "\n",
       "    no_combined_totals  \n",
       "57                 498  "
      ]
     },
     "execution_count": 54,
     "metadata": {},
     "output_type": "execute_result"
    }
   ],
   "source": []
  },
  {
   "cell_type": "markdown",
   "metadata": {},
   "source": [
    "## 05. Define a function named `import_csv_files` that is able to import 2 given csv files `05-25-2021.csv` and `UID_ISO_FIPS_LookUp_Table.csv` as 2 pandas DataFrames.\n",
    "\n",
    "- Expected inputs: None.\n",
    "- Expected outputs: a tuple of length 2."
   ]
  },
  {
   "cell_type": "code",
   "execution_count": 57,
   "metadata": {},
   "outputs": [],
   "source": [
    "def import_csv_files():\n",
    "    \"\"\"\n",
    "    >>> daily_report, lookup_table = import_csv_files()\n",
    "    >>> type(daily_report)\n",
    "    pandas.core.frame.DataFrame\n",
    "    >>> daily_report.shape\n",
    "    (3983, 14)\n",
    "    >>> type(lookup_table)\n",
    "    pandas.core.frame.DataFrame\n",
    "    >>> lookup_table.shape\n",
    "    (4193, 12)\n",
    "    \"\"\"\n",
    "    ### BEGIN SOLUTION\n",
    "    daily_report = pd.read_csv('05-25-2021.csv')\n",
    "    lookup_table = pd.read_csv('UID_ISO_FIPS_LookUp_Table.csv')\n",
    "    return daily_report, lookup_table\n",
    "    ### END SOLUTION"
   ]
  },
  {
   "cell_type": "markdown",
   "metadata": {},
   "source": [
    "## 06. Define a function named `find_country_names_with_asterisk` that is able to retrieve the observations with an asterisk `*` from `UID_ISO_FIPS_LookUp_Table.csv`.\n",
    "\n",
    "- Expected inputs: a CSV file `UID_ISO_FIPS_LookUp_Table.csv`.\n",
    "- Expected outputs: a (3, 12) DataFrame."
   ]
  },
  {
   "cell_type": "code",
   "execution_count": 63,
   "metadata": {},
   "outputs": [],
   "source": [
    "def find_country_names_with_asterisk(csv_file_path):\n",
    "    \"\"\"\n",
    "    >>> country_names_with_asterisk = find_country_names_with_asterisk('UID_ISO_FIPS_LookUp_Table.csv')\n",
    "    >>> type(country_names_with_asterisk)\n",
    "    pandas.core.frame.DataFrame\n",
    "    >>> country_names_with_asterisk.shape\n",
    "    (3, 12)\n",
    "    >>> print(country_names_with_asterisk)\n",
    "           UID iso2 iso3  code3  FIPS Admin2    Province_State Country_Region  \\\n",
    "    659    158   TW  TWN  158.0   NaN    NaN               NaN        Taiwan*   \n",
    "    673  80404   UA  UKR  804.0   NaN    NaN  Crimea Republic*        Ukraine   \n",
    "    689  80420   UA  UKR  804.0   NaN    NaN       Sevastopol*        Ukraine   \n",
    "\n",
    "             Lat     Long_               Combined_Key  Population  \n",
    "    659  23.7000  121.0000                    Taiwan*  23816775.0  \n",
    "    673  45.2835   34.2008  Crimea Republic*, Ukraine   1913731.0  \n",
    "    689  44.6054   33.5220       Sevastopol*, Ukraine    443211.0\n",
    "    \"\"\"\n",
    "    ### BEGIN SOLUTION\n",
    "    lookup_table = pd.read_csv(csv_file_path)\n",
    "    return lookup_table[lookup_table['Combined_Key'].str.contains('\\*')]\n",
    "    ### END SOLUTION"
   ]
  },
  {
   "cell_type": "markdown",
   "metadata": {},
   "source": [
    "## 07. Define a function named `summarize_by_countries` that is able to sum the number of `Confirmed` and `Deaths` based on `Country_Region` given `05-25-2021.csv`.\n",
    "\n",
    "- Expected inputs: a CSV file `05-25-2021.csv`.\n",
    "- Expected outputs: a (192, 3) DataFrame."
   ]
  },
  {
   "cell_type": "code",
   "execution_count": 70,
   "metadata": {},
   "outputs": [],
   "source": [
    "def summarize_by_countries(csv_file_path):\n",
    "    \"\"\"\n",
    "    >>> summary_by_countries = summarize_by_countries('05-25-2021.csv')\n",
    "    >>> type(summary_by_countries)\n",
    "    pandas.core.frame.DataFrame\n",
    "    >>> summary_by_countries.shape\n",
    "    (192, 3)\n",
    "    >>> print(summary_by_countries)\n",
    "             Country_Region  Confirmed  Deaths\n",
    "    0           Afghanistan      66903    2836\n",
    "    1               Albania     132229    2447\n",
    "    2               Algeria     127361    3433\n",
    "    3               Andorra      13664     127\n",
    "    4                Angola      32933     735\n",
    "    ..                  ...        ...     ...\n",
    "    187             Vietnam       5931      44\n",
    "    188  West Bank and Gaza     306334    3480\n",
    "    189               Yemen       6670    1311\n",
    "    190              Zambia      93428    1271\n",
    "    191            Zimbabwe      38706    1587\n",
    "\n",
    "    [192 rows x 3 columns]\n",
    "    \"\"\"\n",
    "    ### BEGIN SOLUTION\n",
    "    daily_report = pd.read_csv(csv_file_path)\n",
    "    confirmed = daily_report.groupby('Country_Region')['Confirmed'].sum()\n",
    "    deaths = daily_report.groupby('Country_Region')['Deaths'].sum()\n",
    "    return pd.merge(confirmed, deaths, on = 'Country_Region').reset_index()\n",
    "    ### END SOLUTION"
   ]
  },
  {
   "cell_type": "markdown",
   "metadata": {},
   "source": [
    "## 08. Define a function named `summarize_by_countries_and_provinces` that is able to sum the number of `Confirmed` and `Deaths` based on both `Country_Region` and `Province_State` given `05-25-2021.csv`.\n",
    "\n",
    "- Expected inputs: a CSV file `05-25-2021.csv`.\n",
    "- Expected outputs: a (593, 4) DataFrame."
   ]
  },
  {
   "cell_type": "code",
   "execution_count": 83,
   "metadata": {},
   "outputs": [],
   "source": [
    "def summarize_by_countries_and_provinces(csv_file_path):\n",
    "    \"\"\"\n",
    "    >>> summary_by_countries_and_provinces = summarize_by_countries_and_provinces('05-25-2021.csv')\n",
    "    >>> type(summary_by_countries_and_provinces)\n",
    "    pandas.core.frame.DataFrame\n",
    "    >>> summary_by_countries_and_provinces.shape\n",
    "    (593, 4)\n",
    "    >>> print(summary_by_countries_and_provinces)\n",
    "         Country_Region                                Province_State  Confirmed  \\\n",
    "    0         Australia                  Australian Capital Territory        124   \n",
    "    1         Australia                               New South Wales       5576   \n",
    "    2         Australia                            Northern Territory        171   \n",
    "    3         Australia                                    Queensland       1611   \n",
    "    4         Australia                               South Australia        750   \n",
    "    ..              ...                                           ...        ...   \n",
    "    588  United Kingdom  Saint Helena, Ascension and Tristan da Cunha          4   \n",
    "    589  United Kingdom                                      Scotland     232661   \n",
    "    590  United Kingdom                      Turks and Caicos Islands       2409   \n",
    "    591  United Kingdom                                       Unknown          0   \n",
    "    592  United Kingdom                                         Wales     212554   \n",
    "\n",
    "         Deaths  \n",
    "    0         3  \n",
    "    1        54  \n",
    "    2         0  \n",
    "    3         7  \n",
    "    4         4  \n",
    "    ..      ...  \n",
    "    588       0  \n",
    "    589    7666  \n",
    "    590      17  \n",
    "    591       0  \n",
    "    592    5566  \n",
    "\n",
    "    [593 rows x 4 columns]\n",
    "    \"\"\"\n",
    "    ### BEGIN SOLUTION\n",
    "    daily_report = pd.read_csv(csv_file_path)\n",
    "    confirmed = daily_report.groupby(['Country_Region', 'Province_State'])['Confirmed'].sum()\n",
    "    deaths = daily_report.groupby(['Country_Region', 'Province_State'])['Deaths'].sum()\n",
    "    return pd.merge(confirmed, deaths, on = ['Country_Region', 'Province_State']).reset_index()\n",
    "    ### END SOLUTION"
   ]
  },
  {
   "cell_type": "markdown",
   "metadata": {},
   "source": [
    "## 09. Define a function named `calculate_death_rate_by_countries` according to the following formula given `05-25-2021.csv`.\n",
    "\n",
    "\\begin{equation}\n",
    "\\text{Death Rate} = \\frac{\\text{Deaths}}{\\text{Confirmed}}\n",
    "\\end{equation}\n",
    "\n",
    "- Expected inputs: a CSV file `05-25-2021.csv`.\n",
    "- Expected outputs: a Series of length 192."
   ]
  },
  {
   "cell_type": "code",
   "execution_count": 91,
   "metadata": {},
   "outputs": [],
   "source": [
    "def calculate_death_rate_by_countries(csv_file_path):\n",
    "    \"\"\"\n",
    "    >>> death_rate_by_countries = calculate_death_rate_by_countries('05-25-2021.csv')\n",
    "    >>> type(death_rate_by_countries)\n",
    "    pandas.core.series.Series\n",
    "    >>> death_rate_by_countries.size\n",
    "    192\n",
    "    >>> print(death_rate_by_countries)\n",
    "    Country_Region\n",
    "    Vanuatu                  0.250000\n",
    "    MS Zaandam               0.222222\n",
    "    Yemen                    0.196552\n",
    "    Mexico                   0.092491\n",
    "    Sudan                    0.074522\n",
    "                               ...   \n",
    "    Marshall Islands         0.000000\n",
    "    Micronesia               0.000000\n",
    "    Samoa                    0.000000\n",
    "    Saint Kitts and Nevis    0.000000\n",
    "    Holy See                 0.000000\n",
    "    Length: 192, dtype: float64\n",
    "    \"\"\"\n",
    "    ### BEGIN SOLUTION\n",
    "    daily_report = pd.read_csv(csv_file_path)\n",
    "    confirmed = daily_report.groupby('Country_Region')['Confirmed'].sum()\n",
    "    deaths = daily_report.groupby('Country_Region')['Deaths'].sum()\n",
    "    return (deaths/confirmed).sort_values(ascending = False)\n",
    "    ### END SOLUTION"
   ]
  },
  {
   "cell_type": "markdown",
   "metadata": {
    "deletable": false,
    "editable": false
   },
   "source": [
    "## Run tests!\n",
    "\n",
    "Kernel -> Restart & Run All. -> Restart And Run All Cells."
   ]
  },
  {
   "cell_type": "code",
   "execution_count": 92,
   "metadata": {
    "deletable": false,
    "editable": false
   },
   "outputs": [
    {
     "name": "stderr",
     "output_type": "stream",
     "text": [
      "test_00_import_olympic_medals (__main__.TestHomeworkSix) ... ok\n",
      "test_01_find_taiwan_from_olympic_medals (__main__.TestHomeworkSix) ... ok\n",
      "test_02_find_the_king_of_summer_olympics (__main__.TestHomeworkSix) ... ok\n",
      "test_03_find_the_king_of_winter_olympics (__main__.TestHomeworkSix) ... ok\n",
      "test_04_find_largest_ratio_country (__main__.TestHomeworkSix) ... ok\n",
      "test_05_import_csv_files (__main__.TestHomeworkSix) ... ok\n",
      "test_06_find_country_names_with_asterisk (__main__.TestHomeworkSix) ... ok\n",
      "test_07_summarize_by_countries (__main__.TestHomeworkSix) ... ok\n",
      "test_08_summarize_by_countries_and_provinces (__main__.TestHomeworkSix) ... ok\n",
      "test_09_calculate_death_rate_by_countries (__main__.TestHomeworkSix) ... ok\n",
      "\n",
      "----------------------------------------------------------------------\n",
      "Ran 10 tests in 0.156s\n",
      "\n",
      "OK\n"
     ]
    }
   ],
   "source": [
    "class TestHomeworkSix(unittest.TestCase):\n",
    "    def test_00_import_olympic_medals(self):\n",
    "        olympic_medals = import_olympic_medals(\"all_time_olympic_medals.csv\")\n",
    "        self.assertIsInstance(olympic_medals, pd.core.frame.DataFrame)\n",
    "        self.assertEqual(olympic_medals.shape, (153, 17))\n",
    "    def test_01_find_taiwan_from_olympic_medals(self):\n",
    "        taiwan_medals = find_taiwan_from_olympic_medals('all_time_olympic_medals.csv')\n",
    "        self.assertIsInstance(taiwan_medals, pd.core.frame.DataFrame)\n",
    "        self.assertEqual(taiwan_medals.shape, (1, 17))\n",
    "    def test_02_find_the_king_of_summer_olympics(self):\n",
    "        the_king_of_summer_olympics = find_the_king_of_summer_olympics('all_time_olympic_medals.csv')\n",
    "        self.assertIsInstance(the_king_of_summer_olympics, pd.core.frame.DataFrame)\n",
    "        self.assertEqual(the_king_of_summer_olympics.shape, (1, 17))\n",
    "        self.assertEqual(the_king_of_summer_olympics['no_summer_golds'].values[0], 1022)\n",
    "        self.assertEqual(the_king_of_summer_olympics['team_name'].values[0], 'United States')\n",
    "    def test_03_find_the_king_of_winter_olympics(self):\n",
    "        the_king_of_winter_olympics = find_the_king_of_winter_olympics('all_time_olympic_medals.csv')\n",
    "        self.assertIsInstance(the_king_of_winter_olympics, pd.core.frame.DataFrame)\n",
    "        self.assertEqual(the_king_of_winter_olympics.shape, (1, 17))\n",
    "        self.assertEqual(the_king_of_winter_olympics['no_winter_golds'].values[0], 132)\n",
    "        self.assertEqual(the_king_of_winter_olympics['team_name'].values[0], 'Norway')\n",
    "    def test_04_find_largest_ratio_country(self):\n",
    "        largest_ratio_country = find_largest_ratio_country('all_time_olympic_medals.csv')\n",
    "        self.assertIsInstance(largest_ratio_country, pd.core.frame.DataFrame)\n",
    "        self.assertEqual(largest_ratio_country.shape, (1, 17))\n",
    "        self.assertEqual(largest_ratio_country['team_name'].values[0], 'Hungary')\n",
    "    def test_05_import_csv_files(self):\n",
    "        daily_report, lookup_table = import_csv_files()\n",
    "        self.assertIsInstance(daily_report, pd.core.frame.DataFrame)\n",
    "        self.assertEqual(daily_report.shape, (3983, 14))\n",
    "        self.assertIsInstance(lookup_table, pd.core.frame.DataFrame)\n",
    "        self.assertEqual(lookup_table.shape, (4193, 12))\n",
    "    def test_06_find_country_names_with_asterisk(self):\n",
    "        country_names_with_asterisk = find_country_names_with_asterisk('UID_ISO_FIPS_LookUp_Table.csv')\n",
    "        self.assertIsInstance(country_names_with_asterisk, pd.core.frame.DataFrame)\n",
    "        self.assertEqual(country_names_with_asterisk.shape, (3, 12))\n",
    "        column_values = set(country_names_with_asterisk['Combined_Key'].values)\n",
    "        self.assertTrue('Taiwan*' in column_values)\n",
    "        self.assertTrue('Crimea Republic*, Ukraine' in column_values)\n",
    "        self.assertTrue('Sevastopol*, Ukraine' in column_values)   \n",
    "    def test_07_summarize_by_countries(self):\n",
    "        summary_by_countries = summarize_by_countries('05-25-2021.csv')\n",
    "        self.assertIsInstance(summary_by_countries, pd.core.frame.DataFrame)\n",
    "        self.assertEqual(summary_by_countries.shape, (192, 3))\n",
    "    def test_08_summarize_by_countries_and_provinces(self):\n",
    "        summary_by_countries_and_provinces = summarize_by_countries_and_provinces('05-25-2021.csv')\n",
    "        self.assertIsInstance(summary_by_countries_and_provinces, pd.core.frame.DataFrame)\n",
    "        self.assertEqual(summary_by_countries_and_provinces.shape, (593, 4))\n",
    "    def test_09_calculate_death_rate_by_countries(self):\n",
    "        death_rate_by_countries = calculate_death_rate_by_countries('05-25-2021.csv')\n",
    "        self.assertIsInstance(death_rate_by_countries, pd.core.series.Series)\n",
    "        self.assertEqual(death_rate_by_countries.size, 192)\n",
    "        ser_index = death_rate_by_countries.index\n",
    "        self.assertTrue('Vanuatu' in ser_index)\n",
    "        self.assertTrue('MS Zaandam' in ser_index)\n",
    "        self.assertTrue('Yemen' in ser_index)\n",
    "        self.assertTrue('Mexico' in ser_index)\n",
    "        self.assertTrue('Sudan' in ser_index)\n",
    "        ser_values = death_rate_by_countries.values\n",
    "        self.assertIsInstance(ser_values[0], np.float)\n",
    "\n",
    "suite = unittest.TestLoader().loadTestsFromTestCase(TestHomeworkSix)\n",
    "runner = unittest.TextTestRunner(verbosity=2)\n",
    "test_results = runner.run(suite)\n",
    "number_of_failures = len(test_results.failures)\n",
    "number_of_errors = len(test_results.errors)\n",
    "number_of_test_runs = test_results.testsRun\n",
    "number_of_successes = number_of_test_runs - (number_of_failures + number_of_errors)"
   ]
  },
  {
   "cell_type": "code",
   "execution_count": 93,
   "metadata": {
    "deletable": false,
    "editable": false
   },
   "outputs": [
    {
     "name": "stdout",
     "output_type": "stream",
     "text": [
      "You've got 10 successes among 10 questions.\n"
     ]
    }
   ],
   "source": [
    "print(\"You've got {} successes among {} questions.\".format(number_of_successes, number_of_test_runs))"
   ]
  },
  {
   "cell_type": "code",
   "execution_count": null,
   "metadata": {},
   "outputs": [],
   "source": []
  }
 ],
 "metadata": {
  "kernelspec": {
   "display_name": "Python 3",
   "language": "python",
   "name": "python3"
  },
  "language_info": {
   "codemirror_mode": {
    "name": "ipython",
    "version": 3
   },
   "file_extension": ".py",
   "mimetype": "text/x-python",
   "name": "python",
   "nbconvert_exporter": "python",
   "pygments_lexer": "ipython3",
   "version": "3.8.6"
  }
 },
 "nbformat": 4,
 "nbformat_minor": 4
}
